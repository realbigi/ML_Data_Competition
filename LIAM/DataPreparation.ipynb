{
 "cells": [
  {
   "cell_type": "markdown",
   "metadata": {},
   "source": [
    "# Exploratory data analysis and feature engineering"
   ]
  },
  {
   "cell_type": "markdown",
   "metadata": {},
   "source": [
    "## 1. Data preparation"
   ]
  },
  {
   "cell_type": "code",
   "execution_count": 20,
   "metadata": {},
   "outputs": [],
   "source": [
    "import numpy as np\n",
    "import pandas as pd\n",
    "import matplotlib.pyplot as plt\n",
    "import seaborn as sns\n",
    "from sklearn.model_selection import train_test_split\n",
    "from sklearn.metrics import accuracy_score, classification_report, confusion_matrix\n",
    "from sklearn.ensemble import RandomForestClassifier\n",
    "import csv"
   ]
  },
  {
   "cell_type": "markdown",
   "metadata": {},
   "source": [
    "### Preprocess the data train"
   ]
  },
  {
   "cell_type": "code",
   "execution_count": 10,
   "metadata": {},
   "outputs": [],
   "source": [
    "dat_test = pd.read_csv(\"MLUnige2023_subscriptions_test.csv\")\n",
    "dat_train = pd.read_csv(\"MLUnige2023_subscriptions_train.csv\")"
   ]
  },
  {
   "cell_type": "code",
   "execution_count": 11,
   "metadata": {},
   "outputs": [],
   "source": [
    "# Handle missing values\n",
    "dat_train = dat_train.fillna('unknown')\n",
    "\n",
    "# Encode categorical variables\n",
    "dat_train = pd.get_dummies(dat_train, columns=['job', 'marital', 'education', 'device', 'outcome_old', 'X1', 'X2', 'X3'])\n",
    "\n",
    "# Split the data into features and target\n",
    "X_train = dat_train.drop(['Id', 'subscription'], axis=1)\n",
    "y_train = dat_train['subscription']"
   ]
  },
  {
   "cell_type": "code",
   "execution_count": 12,
   "metadata": {},
   "outputs": [
    {
     "name": "stdout",
     "output_type": "stream",
     "text": [
      "Accuracy: 0.8531546621998883\n",
      "Confusion Matrix:\n",
      "[[913 143]\n",
      " [120 615]]\n",
      "Classification Report:\n",
      "              precision    recall  f1-score   support\n",
      "\n",
      "           0       0.88      0.86      0.87      1056\n",
      "           1       0.81      0.84      0.82       735\n",
      "\n",
      "    accuracy                           0.85      1791\n",
      "   macro avg       0.85      0.85      0.85      1791\n",
      "weighted avg       0.85      0.85      0.85      1791\n",
      "\n"
     ]
    }
   ],
   "source": [
    "# Split the training data into training and validation sets\n",
    "X_train_split, X_val_split, y_train_split, y_val_split = train_test_split(X_train, y_train, test_size=0.2, random_state=42)\n",
    "\n",
    "# Create and train the model\n",
    "clf = RandomForestClassifier(random_state=42)\n",
    "clf.fit(X_train_split, y_train_split)\n",
    "\n",
    "# Predict on the validation set\n",
    "y_val_pred = clf.predict(X_val_split)\n",
    "\n",
    "# Evaluate the model\n",
    "print(\"Accuracy:\", accuracy_score(y_val_split, y_val_pred))\n",
    "print(\"Confusion Matrix:\")\n",
    "print(confusion_matrix(y_val_split, y_val_pred))\n",
    "print(\"Classification Report:\")\n",
    "print(classification_report(y_val_split, y_val_pred))"
   ]
  },
  {
   "cell_type": "markdown",
   "metadata": {},
   "source": [
    "### Preprocess the data test"
   ]
  },
  {
   "cell_type": "code",
   "execution_count": 13,
   "metadata": {},
   "outputs": [],
   "source": [
    "# Preprocess the test data (similar to the training data)\n",
    "dat_test = dat_test.fillna('unknown')\n",
    "dat_test = pd.get_dummies(dat_test, columns=['job', 'marital', 'education', 'device', 'outcome_old', 'X1', 'X2', 'X3'])\n",
    "\n",
    "# Align columns of test and training data\n",
    "X_test = dat_test.drop('Id', axis=1).reindex(columns=X_train.columns, fill_value=0)\n",
    "\n",
    "# Make predictions\n",
    "y_test_pred = clf.predict(X_test)"
   ]
  },
  {
   "cell_type": "code",
   "execution_count": 24,
   "metadata": {},
   "outputs": [
    {
     "name": "stdout",
     "output_type": "stream",
     "text": [
      "[0 1 0 ... 0 0 1]\n"
     ]
    },
    {
     "data": {
      "text/plain": [
       "(3837,)"
      ]
     },
     "execution_count": 24,
     "metadata": {},
     "output_type": "execute_result"
    }
   ],
   "source": [
    "print(y_test_pred)\n",
    "y_test_pred.shape"
   ]
  },
  {
   "cell_type": "code",
   "execution_count": 25,
   "metadata": {},
   "outputs": [],
   "source": [
    "pd.DataFrame(y_test_pred).to_csv(\"Predictions_On_Test.csv\")"
   ]
  }
 ],
 "metadata": {
  "kernelspec": {
   "display_name": "Test",
   "language": "python",
   "name": "python3"
  },
  "language_info": {
   "codemirror_mode": {
    "name": "ipython",
    "version": 3
   },
   "file_extension": ".py",
   "mimetype": "text/x-python",
   "name": "python",
   "nbconvert_exporter": "python",
   "pygments_lexer": "ipython3",
   "version": "3.11.1"
  },
  "orig_nbformat": 4
 },
 "nbformat": 4,
 "nbformat_minor": 2
}
