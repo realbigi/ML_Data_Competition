{
 "cells": [
  {
   "attachments": {},
   "cell_type": "markdown",
   "metadata": {},
   "source": [
    "# Introduction\n",
    "\n",
    "The goal of this document is to guide the reader through the process of creating a good model for predicting on a specific data set. The data set in this case is company data which assesses the quality of the online advertisment campaign and wants to predict wheter a customer subscribes or not. "
   ]
  },
  {
   "attachments": {},
   "cell_type": "markdown",
   "metadata": {},
   "source": [
    "## Imports\n",
    "\n",
    "To assess this certain python packages are needed which are loaded below."
   ]
  },
  {
   "cell_type": "code",
   "execution_count": 20,
   "metadata": {},
   "outputs": [],
   "source": [
    "import pandas as pd\n",
    "import matplotlib.pyplot as plt"
   ]
  },
  {
   "attachments": {},
   "cell_type": "markdown",
   "metadata": {},
   "source": [
    "## Description of data set\n",
    "\n",
    "A company wants to assess the quality of their online advertisement campaign. Online users are the main interest\n",
    "in this campaign. The users see a web banner during their browsing activity. For each user, they want to be able\n",
    "to predict whether they subscribe to the advertised product through the advertisement banner, based on the\n",
    "information they have about them. To subscribe, the user has to click on the banner and then subscribe to the\n",
    "service. The target variable name is subscription"
   ]
  },
  {
   "cell_type": "code",
   "execution_count": 17,
   "metadata": {},
   "outputs": [
    {
     "data": {
      "text/html": [
       "<div>\n",
       "<style scoped>\n",
       "    .dataframe tbody tr th:only-of-type {\n",
       "        vertical-align: middle;\n",
       "    }\n",
       "\n",
       "    .dataframe tbody tr th {\n",
       "        vertical-align: top;\n",
       "    }\n",
       "\n",
       "    .dataframe thead th {\n",
       "        text-align: right;\n",
       "    }\n",
       "</style>\n",
       "<table border=\"1\" class=\"dataframe\">\n",
       "  <thead>\n",
       "    <tr style=\"text-align: right;\">\n",
       "      <th></th>\n",
       "      <th>age</th>\n",
       "      <th>job</th>\n",
       "      <th>marital</th>\n",
       "      <th>education</th>\n",
       "      <th>device</th>\n",
       "      <th>day</th>\n",
       "      <th>month</th>\n",
       "      <th>time_spent</th>\n",
       "      <th>banner_views</th>\n",
       "      <th>banner_views_old</th>\n",
       "      <th>days_elapsed_old</th>\n",
       "      <th>outcome_old</th>\n",
       "      <th>X1</th>\n",
       "      <th>X2</th>\n",
       "      <th>X3</th>\n",
       "      <th>X4</th>\n",
       "      <th>subscription</th>\n",
       "    </tr>\n",
       "    <tr>\n",
       "      <th>Id</th>\n",
       "      <th></th>\n",
       "      <th></th>\n",
       "      <th></th>\n",
       "      <th></th>\n",
       "      <th></th>\n",
       "      <th></th>\n",
       "      <th></th>\n",
       "      <th></th>\n",
       "      <th></th>\n",
       "      <th></th>\n",
       "      <th></th>\n",
       "      <th></th>\n",
       "      <th></th>\n",
       "      <th></th>\n",
       "      <th></th>\n",
       "      <th></th>\n",
       "      <th></th>\n",
       "    </tr>\n",
       "  </thead>\n",
       "  <tbody>\n",
       "    <tr>\n",
       "      <th>0</th>\n",
       "      <td>28</td>\n",
       "      <td>freelance</td>\n",
       "      <td>married</td>\n",
       "      <td>grad_school</td>\n",
       "      <td>smartphone</td>\n",
       "      <td>4</td>\n",
       "      <td>2</td>\n",
       "      <td>26.80</td>\n",
       "      <td>3</td>\n",
       "      <td>4</td>\n",
       "      <td>196</td>\n",
       "      <td>failure</td>\n",
       "      <td>0</td>\n",
       "      <td>0</td>\n",
       "      <td>1</td>\n",
       "      <td>0.072803</td>\n",
       "      <td>1</td>\n",
       "    </tr>\n",
       "    <tr>\n",
       "      <th>1</th>\n",
       "      <td>48</td>\n",
       "      <td>industrial_worker</td>\n",
       "      <td>married</td>\n",
       "      <td>university</td>\n",
       "      <td>smartphone</td>\n",
       "      <td>30</td>\n",
       "      <td>4</td>\n",
       "      <td>13.05</td>\n",
       "      <td>1</td>\n",
       "      <td>1</td>\n",
       "      <td>79</td>\n",
       "      <td>success</td>\n",
       "      <td>0</td>\n",
       "      <td>0</td>\n",
       "      <td>0</td>\n",
       "      <td>0.075454</td>\n",
       "      <td>1</td>\n",
       "    </tr>\n",
       "    <tr>\n",
       "      <th>2</th>\n",
       "      <td>27</td>\n",
       "      <td>teacher</td>\n",
       "      <td>married</td>\n",
       "      <td>university</td>\n",
       "      <td>smartphone</td>\n",
       "      <td>14</td>\n",
       "      <td>7</td>\n",
       "      <td>8.10</td>\n",
       "      <td>3</td>\n",
       "      <td>0</td>\n",
       "      <td>-1</td>\n",
       "      <td>NaN</td>\n",
       "      <td>0</td>\n",
       "      <td>1</td>\n",
       "      <td>1</td>\n",
       "      <td>0.068110</td>\n",
       "      <td>0</td>\n",
       "    </tr>\n",
       "    <tr>\n",
       "      <th>3</th>\n",
       "      <td>44</td>\n",
       "      <td>unemployed</td>\n",
       "      <td>divorced</td>\n",
       "      <td>university</td>\n",
       "      <td>smartphone</td>\n",
       "      <td>13</td>\n",
       "      <td>5</td>\n",
       "      <td>7.10</td>\n",
       "      <td>2</td>\n",
       "      <td>1</td>\n",
       "      <td>369</td>\n",
       "      <td>other</td>\n",
       "      <td>0</td>\n",
       "      <td>0</td>\n",
       "      <td>1</td>\n",
       "      <td>0.091942</td>\n",
       "      <td>0</td>\n",
       "    </tr>\n",
       "    <tr>\n",
       "      <th>4</th>\n",
       "      <td>29</td>\n",
       "      <td>manager</td>\n",
       "      <td>single</td>\n",
       "      <td>grad_school</td>\n",
       "      <td>smartphone</td>\n",
       "      <td>26</td>\n",
       "      <td>4</td>\n",
       "      <td>15.90</td>\n",
       "      <td>2</td>\n",
       "      <td>2</td>\n",
       "      <td>143</td>\n",
       "      <td>success</td>\n",
       "      <td>0</td>\n",
       "      <td>0</td>\n",
       "      <td>0</td>\n",
       "      <td>0.085922</td>\n",
       "      <td>1</td>\n",
       "    </tr>\n",
       "  </tbody>\n",
       "</table>\n",
       "</div>"
      ],
      "text/plain": [
       "    age                job   marital    education      device  day  month  \\\n",
       "Id                                                                          \n",
       "0    28          freelance   married  grad_school  smartphone    4      2   \n",
       "1    48  industrial_worker   married   university  smartphone   30      4   \n",
       "2    27            teacher   married   university  smartphone   14      7   \n",
       "3    44         unemployed  divorced   university  smartphone   13      5   \n",
       "4    29            manager    single  grad_school  smartphone   26      4   \n",
       "\n",
       "    time_spent  banner_views  banner_views_old  days_elapsed_old outcome_old  \\\n",
       "Id                                                                             \n",
       "0        26.80             3                 4               196     failure   \n",
       "1        13.05             1                 1                79     success   \n",
       "2         8.10             3                 0                -1         NaN   \n",
       "3         7.10             2                 1               369       other   \n",
       "4        15.90             2                 2               143     success   \n",
       "\n",
       "    X1  X2  X3        X4  subscription  \n",
       "Id                                      \n",
       "0    0   0   1  0.072803             1  \n",
       "1    0   0   0  0.075454             1  \n",
       "2    0   1   1  0.068110             0  \n",
       "3    0   0   1  0.091942             0  \n",
       "4    0   0   0  0.085922             1  "
      ]
     },
     "execution_count": 17,
     "metadata": {},
     "output_type": "execute_result"
    }
   ],
   "source": [
    "train = pd.read_csv('data/MLUnige2023_subscriptions_train.csv', index_col='Id', na_values='na', header=0)\n",
    "test = pd.read_csv('data/MLUnige2023_subscriptions_test.csv', index_col='Id', na_values='na', header=0)\n",
    "train.head()"
   ]
  },
  {
   "attachments": {},
   "cell_type": "markdown",
   "metadata": {},
   "source": [
    "# Exploratory data analysis (EDA) and feature engineering (FE)"
   ]
  },
  {
   "attachments": {},
   "cell_type": "markdown",
   "metadata": {},
   "source": [
    "## EDA\n",
    "\n",
    "https://towardsdatascience.com/exploratory-data-analysis-in-python-a-step-by-step-process-d0dfa6bf94ee\n",
    "https://www.digitalocean.com/community/tutorials/exploratory-data-analysis-python\n",
    "https://experienceleague.adobe.com/docs/experience-platform/data-science-workspace/jupyterlab/eda-notebook.html?lang=en"
   ]
  },
  {
   "cell_type": "code",
   "execution_count": 18,
   "metadata": {},
   "outputs": [
    {
     "name": "stdout",
     "output_type": "stream",
     "text": [
      "<class 'pandas.core.frame.DataFrame'>\n",
      "Int64Index: 8952 entries, 0 to 8951\n",
      "Data columns (total 17 columns):\n",
      " #   Column            Non-Null Count  Dtype  \n",
      "---  ------            --------------  -----  \n",
      " 0   age               8952 non-null   int64  \n",
      " 1   job               8891 non-null   object \n",
      " 2   marital           8952 non-null   object \n",
      " 3   education         8574 non-null   object \n",
      " 4   device            6902 non-null   object \n",
      " 5   day               8952 non-null   int64  \n",
      " 6   month             8952 non-null   int64  \n",
      " 7   time_spent        8952 non-null   float64\n",
      " 8   banner_views      8952 non-null   int64  \n",
      " 9   banner_views_old  8952 non-null   int64  \n",
      " 10  days_elapsed_old  8952 non-null   int64  \n",
      " 11  outcome_old       2148 non-null   object \n",
      " 12  X1                8952 non-null   int64  \n",
      " 13  X2                8952 non-null   int64  \n",
      " 14  X3                8952 non-null   int64  \n",
      " 15  X4                8952 non-null   float64\n",
      " 16  subscription      8952 non-null   int64  \n",
      "dtypes: float64(2), int64(10), object(5)\n",
      "memory usage: 1.2+ MB\n"
     ]
    }
   ],
   "source": [
    "# Basic information\n",
    "train.info()"
   ]
  },
  {
   "cell_type": "code",
   "execution_count": 19,
   "metadata": {},
   "outputs": [
    {
     "data": {
      "text/html": [
       "<div>\n",
       "<style scoped>\n",
       "    .dataframe tbody tr th:only-of-type {\n",
       "        vertical-align: middle;\n",
       "    }\n",
       "\n",
       "    .dataframe tbody tr th {\n",
       "        vertical-align: top;\n",
       "    }\n",
       "\n",
       "    .dataframe thead th {\n",
       "        text-align: right;\n",
       "    }\n",
       "</style>\n",
       "<table border=\"1\" class=\"dataframe\">\n",
       "  <thead>\n",
       "    <tr style=\"text-align: right;\">\n",
       "      <th></th>\n",
       "      <th>age</th>\n",
       "      <th>day</th>\n",
       "      <th>month</th>\n",
       "      <th>time_spent</th>\n",
       "      <th>banner_views</th>\n",
       "      <th>banner_views_old</th>\n",
       "      <th>days_elapsed_old</th>\n",
       "      <th>X1</th>\n",
       "      <th>X2</th>\n",
       "      <th>X3</th>\n",
       "      <th>X4</th>\n",
       "      <th>subscription</th>\n",
       "    </tr>\n",
       "  </thead>\n",
       "  <tbody>\n",
       "    <tr>\n",
       "      <th>count</th>\n",
       "      <td>8952.000000</td>\n",
       "      <td>8952.000000</td>\n",
       "      <td>8952.000000</td>\n",
       "      <td>8952.000000</td>\n",
       "      <td>8952.000000</td>\n",
       "      <td>8952.000000</td>\n",
       "      <td>8952.000000</td>\n",
       "      <td>8952.000000</td>\n",
       "      <td>8952.000000</td>\n",
       "      <td>8952.000000</td>\n",
       "      <td>8952.000000</td>\n",
       "      <td>8952.000000</td>\n",
       "    </tr>\n",
       "    <tr>\n",
       "      <th>mean</th>\n",
       "      <td>41.201743</td>\n",
       "      <td>15.663762</td>\n",
       "      <td>6.207328</td>\n",
       "      <td>17.130306</td>\n",
       "      <td>2.540550</td>\n",
       "      <td>0.759160</td>\n",
       "      <td>49.403262</td>\n",
       "      <td>0.141086</td>\n",
       "      <td>0.013963</td>\n",
       "      <td>0.496984</td>\n",
       "      <td>0.086603</td>\n",
       "      <td>0.416443</td>\n",
       "    </tr>\n",
       "    <tr>\n",
       "      <th>std</th>\n",
       "      <td>11.638321</td>\n",
       "      <td>8.379622</td>\n",
       "      <td>2.509444</td>\n",
       "      <td>16.902741</td>\n",
       "      <td>2.824065</td>\n",
       "      <td>2.099277</td>\n",
       "      <td>107.365840</td>\n",
       "      <td>0.348129</td>\n",
       "      <td>0.117345</td>\n",
       "      <td>0.500019</td>\n",
       "      <td>0.030253</td>\n",
       "      <td>0.492996</td>\n",
       "    </tr>\n",
       "    <tr>\n",
       "      <th>min</th>\n",
       "      <td>18.000000</td>\n",
       "      <td>1.000000</td>\n",
       "      <td>1.000000</td>\n",
       "      <td>0.000000</td>\n",
       "      <td>1.000000</td>\n",
       "      <td>0.000000</td>\n",
       "      <td>-1.000000</td>\n",
       "      <td>0.000000</td>\n",
       "      <td>0.000000</td>\n",
       "      <td>0.000000</td>\n",
       "      <td>0.000000</td>\n",
       "      <td>0.000000</td>\n",
       "    </tr>\n",
       "    <tr>\n",
       "      <th>25%</th>\n",
       "      <td>32.000000</td>\n",
       "      <td>8.000000</td>\n",
       "      <td>5.000000</td>\n",
       "      <td>6.100000</td>\n",
       "      <td>1.000000</td>\n",
       "      <td>0.000000</td>\n",
       "      <td>-1.000000</td>\n",
       "      <td>0.000000</td>\n",
       "      <td>0.000000</td>\n",
       "      <td>0.000000</td>\n",
       "      <td>0.073891</td>\n",
       "      <td>0.000000</td>\n",
       "    </tr>\n",
       "    <tr>\n",
       "      <th>50%</th>\n",
       "      <td>39.000000</td>\n",
       "      <td>16.000000</td>\n",
       "      <td>6.000000</td>\n",
       "      <td>11.450000</td>\n",
       "      <td>2.000000</td>\n",
       "      <td>0.000000</td>\n",
       "      <td>-1.000000</td>\n",
       "      <td>0.000000</td>\n",
       "      <td>0.000000</td>\n",
       "      <td>0.000000</td>\n",
       "      <td>0.077661</td>\n",
       "      <td>0.000000</td>\n",
       "    </tr>\n",
       "    <tr>\n",
       "      <th>75%</th>\n",
       "      <td>49.000000</td>\n",
       "      <td>21.000000</td>\n",
       "      <td>8.000000</td>\n",
       "      <td>22.500000</td>\n",
       "      <td>3.000000</td>\n",
       "      <td>0.000000</td>\n",
       "      <td>-1.000000</td>\n",
       "      <td>0.000000</td>\n",
       "      <td>0.000000</td>\n",
       "      <td>1.000000</td>\n",
       "      <td>0.087768</td>\n",
       "      <td>1.000000</td>\n",
       "    </tr>\n",
       "    <tr>\n",
       "      <th>max</th>\n",
       "      <td>95.000000</td>\n",
       "      <td>31.000000</td>\n",
       "      <td>12.000000</td>\n",
       "      <td>245.400000</td>\n",
       "      <td>63.000000</td>\n",
       "      <td>58.000000</td>\n",
       "      <td>854.000000</td>\n",
       "      <td>1.000000</td>\n",
       "      <td>1.000000</td>\n",
       "      <td>1.000000</td>\n",
       "      <td>0.810043</td>\n",
       "      <td>1.000000</td>\n",
       "    </tr>\n",
       "  </tbody>\n",
       "</table>\n",
       "</div>"
      ],
      "text/plain": [
       "               age          day        month   time_spent  banner_views  \\\n",
       "count  8952.000000  8952.000000  8952.000000  8952.000000   8952.000000   \n",
       "mean     41.201743    15.663762     6.207328    17.130306      2.540550   \n",
       "std      11.638321     8.379622     2.509444    16.902741      2.824065   \n",
       "min      18.000000     1.000000     1.000000     0.000000      1.000000   \n",
       "25%      32.000000     8.000000     5.000000     6.100000      1.000000   \n",
       "50%      39.000000    16.000000     6.000000    11.450000      2.000000   \n",
       "75%      49.000000    21.000000     8.000000    22.500000      3.000000   \n",
       "max      95.000000    31.000000    12.000000   245.400000     63.000000   \n",
       "\n",
       "       banner_views_old  days_elapsed_old           X1           X2  \\\n",
       "count       8952.000000       8952.000000  8952.000000  8952.000000   \n",
       "mean           0.759160         49.403262     0.141086     0.013963   \n",
       "std            2.099277        107.365840     0.348129     0.117345   \n",
       "min            0.000000         -1.000000     0.000000     0.000000   \n",
       "25%            0.000000         -1.000000     0.000000     0.000000   \n",
       "50%            0.000000         -1.000000     0.000000     0.000000   \n",
       "75%            0.000000         -1.000000     0.000000     0.000000   \n",
       "max           58.000000        854.000000     1.000000     1.000000   \n",
       "\n",
       "                X3           X4  subscription  \n",
       "count  8952.000000  8952.000000   8952.000000  \n",
       "mean      0.496984     0.086603      0.416443  \n",
       "std       0.500019     0.030253      0.492996  \n",
       "min       0.000000     0.000000      0.000000  \n",
       "25%       0.000000     0.073891      0.000000  \n",
       "50%       0.000000     0.077661      0.000000  \n",
       "75%       1.000000     0.087768      1.000000  \n",
       "max       1.000000     0.810043      1.000000  "
      ]
     },
     "execution_count": 19,
     "metadata": {},
     "output_type": "execute_result"
    }
   ],
   "source": [
    "# Describe numerical data\n",
    "train.describe()"
   ]
  },
  {
   "cell_type": "code",
   "execution_count": 36,
   "metadata": {},
   "outputs": [
    {
     "data": {
      "image/png": "[encoded data removed]",
      "text/plain": [
       "<Figure size 640x480 with 1 Axes>"
      ]
     },
     "metadata": {},
     "output_type": "display_data"
    },
    {
     "data": {
      "image/png": "[encoded data removed]",
      "text/plain": [
       "<Figure size 640x480 with 1 Axes>"
      ]
     },
     "metadata": {},
     "output_type": "display_data"
    },
    {
     "data": {
      "image/png": "[encoded data removed]",
      "text/plain": [
       "<Figure size 640x480 with 1 Axes>"
      ]
     },
     "metadata": {},
     "output_type": "display_data"
    },
    {
     "data": {
      "image/png": "[encoded data removed]",
      "text/plain": [
       "<Figure size 640x480 with 1 Axes>"
      ]
     },
     "metadata": {},
     "output_type": "display_data"
    },
    {
     "data": {
      "image/png": "[encoded data removed]",
      "text/plain": [
       "<Figure size 640x480 with 1 Axes>"
      ]
     },
     "metadata": {},
     "output_type": "display_data"
    }
   ],
   "source": [
    "for col in train.columns:\n",
    "    if train[col].dtype == 'object':\n",
    "        unique_values = [str(s).title() for s in train[col].unique()]\n",
    "        plt.bar(range(len(unique_values)), train[col].value_counts(dropna=False))\n",
    "        plt.xticks(range(len(unique_values)), unique_values, rotation=90)\n",
    "        plt.xlabel(col)\n",
    "        plt.ylabel('Count')\n",
    "        plt.show()\n",
    "  "
   ]
  },
  {
   "attachments": {},
   "cell_type": "markdown",
   "metadata": {},
   "source": [
    "## FE"
   ]
  },
  {
   "attachments": {},
   "cell_type": "markdown",
   "metadata": {},
   "source": [
    "# Predictive model"
   ]
  },
  {
   "attachments": {},
   "cell_type": "markdown",
   "metadata": {},
   "source": [
    "## Description of best model"
   ]
  },
  {
   "attachments": {},
   "cell_type": "markdown",
   "metadata": {},
   "source": [
    "## Comparison with other models"
   ]
  },
  {
   "attachments": {},
   "cell_type": "markdown",
   "metadata": {},
   "source": [
    "## Tuning parameter analysis"
   ]
  },
  {
   "attachments": {},
   "cell_type": "markdown",
   "metadata": {},
   "source": [
    "## Model selection approach"
   ]
  },
  {
   "attachments": {},
   "cell_type": "markdown",
   "metadata": {},
   "source": [
    "# Diagnostics and kaggle prediction"
   ]
  },
  {
   "attachments": {},
   "cell_type": "markdown",
   "metadata": {},
   "source": [
    "## Diagnostics"
   ]
  },
  {
   "attachments": {},
   "cell_type": "markdown",
   "metadata": {},
   "source": [
    "## Kaggle prediction"
   ]
  },
  {
   "attachments": {},
   "cell_type": "markdown",
   "metadata": {},
   "source": [
    "# Conclusion"
   ]
  }
 ],
 "metadata": {
  "kernelspec": {
   "display_name": "Python 3",
   "language": "python",
   "name": "python3"
  },
  "language_info": {
   "codemirror_mode": {
    "name": "ipython",
    "version": 3
   },
   "file_extension": ".py",
   "mimetype": "text/x-python",
   "name": "python",
   "nbconvert_exporter": "python",
   "pygments_lexer": "ipython3",
   "version": "3.10.8"
  },
  "orig_nbformat": 4
 },
 "nbformat": 4,
 "nbformat_minor": 2
}
